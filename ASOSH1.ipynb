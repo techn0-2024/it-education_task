{
  "nbformat": 4,
  "nbformat_minor": 0,
  "metadata": {
    "colab": {
      "provenance": [],
      "toc_visible": true,
      "include_colab_link": true
    },
    "kernelspec": {
      "name": "python3",
      "display_name": "Python 3"
    },
    "language_info": {
      "name": "python"
    }
  },
  "cells": [
    {
      "cell_type": "markdown",
      "metadata": {
        "id": "view-in-github",
        "colab_type": "text"
      },
      "source": [
        "<a href=\"https://colab.research.google.com/github/techn0-2024/it-education_task/blob/main/ASOSH1.ipynb\" target=\"_parent\"><img src=\"https://colab.research.google.com/assets/colab-badge.svg\" alt=\"Open In Colab\"/></a>"
      ]
    },
    {
      "cell_type": "code",
      "execution_count": null,
      "metadata": {
        "colab": {
          "base_uri": "https://localhost:8080/"
        },
        "id": "DfUjQ0Aj45O_",
        "outputId": "bfde7442-d649-4a77-e2d1-0fb02d40f794"
      },
      "outputs": [
        {
          "output_type": "stream",
          "name": "stdout",
          "text": [
            "Mounted at /content/drive\n"
          ]
        }
      ],
      "source": [
        "from google.colab import drive\n",
        "drive.mount('/content/drive')\n",
        "import csv"
      ]
    },
    {
      "cell_type": "markdown",
      "source": [],
      "metadata": {
        "id": "PfkpEPDv5kEl"
      }
    },
    {
      "cell_type": "markdown",
      "source": [
        "Выполнение задания 1.1. Для каждого признака определите, к какому типу он относится (численный/категориальный)."
      ],
      "metadata": {
        "id": "FesN5BbYt_Pr"
      }
    },
    {
      "cell_type": "code",
      "source": [
        "def determine_type(file_path):\n",
        "    data_types = {}\n",
        "    with open(file_path, 'r') as file:\n",
        "        header = file.readline().strip().split(',')\n",
        "        for line in file:\n",
        "            values = line.strip().split(',')\n",
        "            for i, value in enumerate(values):\n",
        "                if not value:\n",
        "                    continue\n",
        "                if value.replace('.', '', 1).isdigit():\n",
        "                    if '.' in value:\n",
        "                        data_type = 'float'\n",
        "                    else:\n",
        "                        data_type = 'int'\n",
        "                else:\n",
        "                    data_type = 'str'\n",
        "                if data_type in data_types:\n",
        "                    data_types[header[i]] = data_type\n",
        "                else:\n",
        "                    data_types[header[i]] = data_type\n",
        "    for feature, data_type in data_types.items():\n",
        "        print(f'Признак: {feature}, Тип признака: {data_type}')\n",
        "\n",
        "determine_type('/content/drive/MyDrive/students_data.csv')"
      ],
      "metadata": {
        "id": "DhAN8mk95ktT"
      },
      "execution_count": null,
      "outputs": []
    },
    {
      "cell_type": "markdown",
      "source": [
        "Выполнение задания 1.2. Проверьте значения признаков на наличие опечаток и ошибок"
      ],
      "metadata": {
        "id": "-l0vpE1tYitW"
      }
    },
    {
      "cell_type": "code",
      "source": [
        "f = open(\"students_data (1).csv\")\n",
        "v = [['Math', 'Por'],['GP', 'MS'],['F', 'M'], ['15','16','17','18','19','20'], ['U', 'R'],['LE3', 'GT3'],['T', 'A'],['0','1','2','3','4'],['0','1','2','3','4'],['teacher','health','services','at_home','other'],['teacher','health','services','at_home','other'],['home','reputation','course','other'],['home','reputation','course','other'],['mother', 'father','other'],['1','2','3','4'],['1','2','3','4'],['1','2','3','4'],['yes','no'],['yes','no'],['yes','no'],['yes','no'],['yes','no'],['yes','no'],['yes','no'],['yes','no'],['1','2','3','4','5'],['1','2','3','4','5'],['1','2','3','4','5'],['1','2','3','4','5'],['1','2','3','4','5'],['1','2','3','4','5'],[0,1,2,3,4,5,6,7,8,9,10,11,12,13,14,15,16,17,18,19,20,21,22,23,24],['yes','no'],[0,1,2,3,4,5,6,7,8,9,10,11,12,13,14,15,16,17,18,19,20],[0,1,2,3,4,5,6,7,8,9,10,11,12,13,14,15,16,17,18,19,20],[0,1,2,3,4,5,6,7,8,9,10,11,12,13,14,15,16,17,18,19,20]]\n",
        "\n",
        "def is_valid_value(value,valid_values):\n",
        "    if value in valid_values:\n",
        "        return True\n",
        "    else:\n",
        "        return False\n",
        "header = [e for e in next(f).split(\";\")]\n",
        "next(f)\n",
        "k = 1\n",
        "for row in f:\n",
        "    k+=1\n",
        "    s = [e for e in row.split(\";\")]\n",
        "    for i in range(35):\n",
        "        if not is_valid_value(s[i+1], v[i]):\n",
        "            print(f\"Недопустимое значение в столбце {header[i]}, в строке {k} - {s[i+1]}\")"
      ],
      "metadata": {
        "id": "qlJ2fGJtlqKe"
      },
      "execution_count": null,
      "outputs": []
    },
    {
      "cell_type": "markdown",
      "source": [
        "Выполнение задания 2.1. Проверьте, присутствуют ли в данных пропущенные значения. Сколько? В каких признаках?"
      ],
      "metadata": {
        "id": "GRf3ChTqCwRY"
      }
    },
    {
      "cell_type": "code",
      "source": [
        "import csv\n",
        "\n",
        "def check_missing(file_path):\n",
        "    with open(file_path, 'r') as file:\n",
        "        reader = csv.reader(file)\n",
        "        header = next(reader)\n",
        "        missing_values = {i: 0 for i in range(len(header))}\n",
        "        total_rows = 0\n",
        "\n",
        "        for row in reader:\n",
        "            total_rows += 1\n",
        "            for i in range(len(row)):\n",
        "                if row[i] == '':\n",
        "                    missing_values[i] += 1\n",
        "\n",
        "        print(\"Пропущенные значения:\")\n",
        "        for i, count in missing_values.items():\n",
        "            print(f\"Признак {header[i]} в столбце с индексом {i} имеет {count} пропущенных значений\")\n",
        "        print(f\"Итого проверено строк: {total_rows}\")\n",
        "\n",
        "\n",
        "check_missing('/content/drive/MyDrive/students_data.csv')"
      ],
      "metadata": {
        "colab": {
          "base_uri": "https://localhost:8080/"
        },
        "id": "652wFK3cCw0x",
        "outputId": "87998952-d304-4dea-cc75-df50b4425528"
      },
      "execution_count": null,
      "outputs": [
        {
          "output_type": "stream",
          "name": "stdout",
          "text": [
            "Пропущенные значения:\n",
            "Признак ID в столбце с индексом 0 имеет 0 пропущенных значений\n",
            "Признак Subject в столбце с индексом 1 имеет 0 пропущенных значений\n",
            "Признак school в столбце с индексом 2 имеет 0 пропущенных значений\n",
            "Признак sex в столбце с индексом 3 имеет 0 пропущенных значений\n",
            "Признак age в столбце с индексом 4 имеет 0 пропущенных значений\n",
            "Признак address в столбце с индексом 5 имеет 0 пропущенных значений\n",
            "Признак famsize в столбце с индексом 6 имеет 0 пропущенных значений\n",
            "Признак Pstatus в столбце с индексом 7 имеет 0 пропущенных значений\n",
            "Признак Medu в столбце с индексом 8 имеет 0 пропущенных значений\n",
            "Признак Fedu в столбце с индексом 9 имеет 0 пропущенных значений\n",
            "Признак Mjob в столбце с индексом 10 имеет 0 пропущенных значений\n",
            "Признак Fjob в столбце с индексом 11 имеет 0 пропущенных значений\n",
            "Признак reason в столбце с индексом 12 имеет 0 пропущенных значений\n",
            "Признак guardian в столбце с индексом 13 имеет 0 пропущенных значений\n",
            "Признак traveltime в столбце с индексом 14 имеет 0 пропущенных значений\n",
            "Признак studytime в столбце с индексом 15 имеет 0 пропущенных значений\n",
            "Признак failures в столбце с индексом 16 имеет 0 пропущенных значений\n",
            "Признак schoolsup в столбце с индексом 17 имеет 0 пропущенных значений\n",
            "Признак famsup в столбце с индексом 18 имеет 0 пропущенных значений\n",
            "Признак paid в столбце с индексом 19 имеет 0 пропущенных значений\n",
            "Признак activities в столбце с индексом 20 имеет 0 пропущенных значений\n",
            "Признак nursery в столбце с индексом 21 имеет 0 пропущенных значений\n",
            "Признак higher в столбце с индексом 22 имеет 0 пропущенных значений\n",
            "Признак internet в столбце с индексом 23 имеет 0 пропущенных значений\n",
            "Признак romantic в столбце с индексом 24 имеет 10 пропущенных значений\n",
            "Признак famrel в столбце с индексом 25 имеет 10 пропущенных значений\n",
            "Признак freetime в столбце с индексом 26 имеет 0 пропущенных значений\n",
            "Признак goout в столбце с индексом 27 имеет 0 пропущенных значений\n",
            "Признак Dalc в столбце с индексом 28 имеет 10 пропущенных значений\n",
            "Признак Walc в столбце с индексом 29 имеет 10 пропущенных значений\n",
            "Признак health в столбце с индексом 30 имеет 0 пропущенных значений\n",
            "Признак absences в столбце с индексом 31 имеет 0 пропущенных значений\n",
            "Признак cheating в столбце с индексом 32 имеет 700 пропущенных значений\n",
            "Признак G1 в столбце с индексом 33 имеет 0 пропущенных значений\n",
            "Признак G2 в столбце с индексом 34 имеет 0 пропущенных значений\n",
            "Признак G3 в столбце с индексом 35 имеет 0 пропущенных значений\n",
            "Итого проверено строк: 1044\n"
          ]
        }
      ]
    },
    {
      "cell_type": "markdown",
      "source": [
        "выполнение задания 3.1. Посчитайте базовые статистики (по крайней мере, средние значения) для числовых и для категориальных признаков."
      ],
      "metadata": {
        "id": "xNb8AfaFIAPg"
      }
    },
    {
      "cell_type": "code",
      "source": [
        "import collections\n",
        "\n",
        "# Read the CSV file\n",
        "with open('/content/drive/MyDrive/students_data.csv', 'r') as f:\n",
        "    data = [row for row in csv.reader(f)]\n",
        "\n",
        "# Create a dictionary to store the counts of each value in each column\n",
        "counts = collections.defaultdict(lambda: collections.defaultdict(int))\n",
        "\n",
        "# Populate the dictionary with the counts\n",
        "for row in data[1:]:\n",
        "    for i, value in enumerate(row):\n",
        "        counts[i][value] += 1\n",
        "\n",
        "# Print the counts for each column\n",
        "for i, column_counts in counts.items():\n",
        "    print(f\"Column {i}:\")\n",
        "    for value, count in column_counts.items():\n",
        "        print(f\"{value}: {count}\")"
      ],
      "metadata": {
        "id": "jjjARlH8HwkQ"
      },
      "execution_count": null,
      "outputs": []
    },
    {
      "cell_type": "markdown",
      "source": [
        "Выполнение задания 4.1. Оцените распределение оценок (отдельно для G1, G2 и G3). Сравните распределения для разных предметов - математики и природоведения.Сделайте как можно больше обоснованных выводов из результатов сравнения."
      ],
      "metadata": {
        "id": "QvZKHYQ1M1qz"
      }
    },
    {
      "cell_type": "markdown",
      "source": [
        "Распределение оценок G1"
      ],
      "metadata": {
        "id": "ToZ3ErNDmkJf"
      }
    },
    {
      "cell_type": "code",
      "source": [
        "import csv\n",
        "from collections import Counter\n",
        "\n",
        "def evaluate_distribution(file_path):\n",
        "    # Read the CSV file\n",
        "    with open(file_path, 'r') as file:\n",
        "        reader = csv.reader(file)\n",
        "        data = list(reader)\n",
        "\n",
        "    # Remove the header row\n",
        "    header = data[0]\n",
        "    data = data[1:]\n",
        "\n",
        "    # Get the index of the column to evaluate\n",
        "    column_index = header.index('G1')\n",
        "\n",
        "    # Count the occurrences of each grade\n",
        "    grade_counts = Counter(row[column_index] for row in data)\n",
        "\n",
        "    # Calculate the total number of grades\n",
        "    total_grades = sum(grade_counts.values())\n",
        "\n",
        "    # Calculate the percentage of each grade\n",
        "    grade_percentages = {grade: (count / total_grades) * 100 for grade, count in grade_counts.items()}\n",
        "\n",
        "    return grade_percentages\n",
        "\n",
        "# Example usage\n",
        "file_path = '/content/drive/MyDrive/students_data.csv'\n",
        "grade_percentages = evaluate_distribution(file_path)\n",
        "\n",
        "for grade, percentage in grade_percentages.items():\n",
        "    print(f\"{grade}: {percentage:.2f}%\")"
      ],
      "metadata": {
        "colab": {
          "base_uri": "https://localhost:8080/"
        },
        "id": "VhqIWgjQM2kX",
        "outputId": "b5d9b35e-87d2-4c51-d3a7-0e8d85033913"
      },
      "execution_count": null,
      "outputs": [
        {
          "output_type": "stream",
          "name": "stdout",
          "text": [
            "15: 5.65%\n",
            "17: 2.30%\n",
            "9: 9.20%\n",
            "14: 9.67%\n",
            "12: 11.21%\n",
            "11: 12.45%\n",
            "13: 10.06%\n",
            "7: 6.70%\n",
            "16: 4.21%\n",
            "6: 3.16%\n",
            "8: 7.95%\n",
            "10: 13.98%\n",
            "18: 1.44%\n",
            "0: 0.10%\n",
            "5: 1.15%\n",
            "3: 0.10%\n",
            "4: 0.29%\n",
            "19: 0.38%\n"
          ]
        }
      ]
    },
    {
      "cell_type": "markdown",
      "source": [
        "Распределение оценок G2"
      ],
      "metadata": {
        "id": "Zo3V4qNTmpxQ"
      }
    },
    {
      "cell_type": "code",
      "source": [
        "import csv\n",
        "from collections import Counter\n",
        "\n",
        "def evaluate_distribution(file_path):\n",
        "    # Read the CSV file\n",
        "    with open(file_path, 'r') as file:\n",
        "        reader = csv.reader(file)\n",
        "        data = list(reader)\n",
        "\n",
        "    # Remove the header row\n",
        "    header = data[0]\n",
        "    data = data[1:]\n",
        "\n",
        "    # Get the index of the column to evaluate\n",
        "    column_index = header.index('G2')\n",
        "\n",
        "    # Count the occurrences of each grade\n",
        "    grade_counts = Counter(row[column_index] for row in data)\n",
        "\n",
        "    # Calculate the total number of grades\n",
        "    total_grades = sum(grade_counts.values())\n",
        "\n",
        "    # Calculate the percentage of each grade\n",
        "    grade_percentages = {grade: (count / total_grades) * 100 for grade, count in grade_counts.items()}\n",
        "\n",
        "    return grade_percentages\n",
        "\n",
        "# Example usage\n",
        "file_path = '/content/drive/MyDrive/students_data.csv'\n",
        "grade_percentages = evaluate_distribution(file_path)\n",
        "\n",
        "for grade, percentage in grade_percentages.items():\n",
        "    print(f\"{grade}: {percentage:.2f}%\")"
      ],
      "metadata": {
        "colab": {
          "base_uri": "https://localhost:8080/"
        },
        "outputId": "c1b28566-9fc8-4b9c-df01-e549ff7dde7b",
        "id": "OnQhPlyyPIjr"
      },
      "execution_count": null,
      "outputs": [
        {
          "output_type": "stream",
          "name": "stdout",
          "text": [
            "13: 11.21%\n",
            "18: 2.49%\n",
            "8: 6.90%\n",
            "15: 6.90%\n",
            "11: 13.22%\n",
            "12: 12.16%\n",
            "14: 7.38%\n",
            "6: 2.01%\n",
            "10: 12.36%\n",
            "16: 3.64%\n",
            "5: 1.72%\n",
            "7: 3.54%\n",
            "9: 11.69%\n",
            "17: 2.39%\n",
            "0: 1.92%\n",
            "4: 0.10%\n",
            "19: 0.38%\n"
          ]
        }
      ]
    },
    {
      "cell_type": "markdown",
      "source": [
        "Распределение оценок G3"
      ],
      "metadata": {
        "id": "XHmfnXL2mrw1"
      }
    },
    {
      "cell_type": "code",
      "source": [
        "import csv\n",
        "from collections import Counter\n",
        "\n",
        "def evaluate_distribution(file_path):\n",
        "    # Read the CSV file\n",
        "    with open(file_path, 'r') as file:\n",
        "        reader = csv.reader(file)\n",
        "        data = list(reader)\n",
        "\n",
        "    # Remove the header row\n",
        "    header = data[0]\n",
        "    data = data[1:]\n",
        "\n",
        "    # Get the index of the column to evaluate\n",
        "    column_index = header.index('G3')\n",
        "\n",
        "    # Count the occurrences of each grade\n",
        "    grade_counts = Counter(row[column_index] for row in data)\n",
        "\n",
        "    # Calculate the total number of grades\n",
        "    total_grades = sum(grade_counts.values())\n",
        "\n",
        "    # Calculate the percentage of each grade\n",
        "    grade_percentages = {grade: (count / total_grades) * 100 for grade, count in grade_counts.items()}\n",
        "\n",
        "    return grade_percentages\n",
        "\n",
        "# Example usage\n",
        "file_path = '/content/drive/MyDrive/students_data.csv'\n",
        "grade_percentages = evaluate_distribution(file_path)\n",
        "\n",
        "for grade, percentage in grade_percentages.items():\n",
        "    print(f\"{grade}: {percentage:.2f}%\")"
      ],
      "metadata": {
        "colab": {
          "base_uri": "https://localhost:8080/"
        },
        "outputId": "7f4ab272-4262-435a-d145-5c9a2717cd4c",
        "id": "gWyfHQjSPQwD"
      },
      "execution_count": null,
      "outputs": [
        {
          "output_type": "stream",
          "name": "stdout",
          "text": [
            "14: 8.62%\n",
            "17: 3.35%\n",
            "10: 14.66%\n",
            "16: 4.98%\n",
            "13: 10.82%\n",
            "12: 9.87%\n",
            "9: 6.03%\n",
            "6: 1.72%\n",
            "11: 14.46%\n",
            "8: 6.42%\n",
            "18: 2.59%\n",
            "15: 7.85%\n",
            "0: 5.08%\n",
            "5: 0.77%\n",
            "7: 1.82%\n",
            "19: 0.67%\n",
            "4: 0.10%\n",
            "1: 0.10%\n",
            "20: 0.10%\n"
          ]
        }
      ]
    },
    {
      "cell_type": "markdown",
      "source": [
        "Сравнение распределения для разных предметов - математики и природоведения."
      ],
      "metadata": {
        "id": "3sMbQu3fmuWY"
      }
    },
    {
      "cell_type": "code",
      "source": [
        "import csv\n",
        "\n",
        "# Read the CSV file\n",
        "with open('/content/drive/MyDrive/students_data.csv', 'r') as file:\n",
        "    reader = csv.reader(file)\n",
        "    data = list(reader)\n",
        "\n",
        "# Remove the header row\n",
        "header = data[0]\n",
        "data = data[1:]\n",
        "\n",
        "# Get the list of items to compare\n",
        "items = ['Math', 'Por']\n",
        "\n",
        "# Create a dictionary to store the counts of each item\n",
        "counts = {item: 0 for item in items}\n",
        "\n",
        "# Populate the counts dictionary\n",
        "for row in data:\n",
        "    for item in items:\n",
        "        if item in row:\n",
        "            counts[item] += 1\n",
        "\n",
        "# Compare the counts\n",
        "for item1, count1 in counts.items():\n",
        "    for item2, count2 in counts.items():\n",
        "        if item1 != item2:\n",
        "            print(f\"{item1}: {count1}, {item2}: {count2}\")\n",
        "            print(f\"{item1} is {count1/sum(counts.values())*100:.2f}% of the total, \"\n",
        "                  f\"{item2} is {count2/sum(counts.values())*100:.2f}% of the total\")\n",
        "            print()"
      ],
      "metadata": {
        "colab": {
          "base_uri": "https://localhost:8080/"
        },
        "id": "EZ2gewYWLM-I",
        "outputId": "f951c75f-2432-4650-df0a-6408787bc63a"
      },
      "execution_count": null,
      "outputs": [
        {
          "output_type": "stream",
          "name": "stdout",
          "text": [
            "Math: 395, Por: 649\n",
            "Math is 37.84% of the total, Por is 62.16% of the total\n",
            "\n",
            "Por: 649, Math: 395\n",
            "Por is 62.16% of the total, Math is 37.84% of the total\n",
            "\n"
          ]
        }
      ]
    }
  ]
}